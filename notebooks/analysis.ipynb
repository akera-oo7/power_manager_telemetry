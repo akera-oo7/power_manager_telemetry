{
 "cells": [
  {
   "cell_type": "code",
   "execution_count": 1,
   "id": "5a90b85d",
   "metadata": {
    "scrolled": true
   },
   "outputs": [
    {
     "name": "stdout",
     "output_type": "stream",
     "text": [
      "Telemetry Data:\n",
      "      timestamp  cpu_usage  memory_usage  nic_usage  tdp\n",
      "0  1.720976e+09        2.4          74.0          0    0\n",
      "1  1.720976e+09        8.4          74.0          0    0\n",
      "2  1.720976e+09        5.9          73.4          0    0\n",
      "3  1.720976e+09        9.0          73.3          0    0\n",
      "4  1.720976e+09       11.2          73.7          0    0\n",
      "\n",
      "Power Data:\n",
      "      timestamp  cpu_power  memory_power  nic_power  tdp_power\n",
      "0  1.720976e+09          0             0          0          0\n",
      "1  1.720976e+09          0             0          0          0\n",
      "2  1.720976e+09          0             0          0          0\n",
      "3  1.720976e+09          0             0          0          0\n",
      "4  1.720976e+09          0             0          0          0\n"
     ]
    }
   ],
   "source": [
    "import pandas as pd\n",
    "\n",
    "# Load telemetry data\n",
    "telemetry_data = pd.read_csv(\"../data/telemetry_data.csv\")\n",
    "power_data = pd.read_csv(\"../data/power_data.csv\")\n",
    "\n",
    "# Display the first few rows of each DataFrame\n",
    "print(\"Telemetry Data:\")\n",
    "print(telemetry_data.head())\n",
    "\n",
    "print(\"\\nPower Data:\")\n",
    "print(power_data.head())\n",
    "\n",
    "\n"
   ]
  },
  {
   "cell_type": "code",
   "execution_count": 2,
   "id": "d96ec796",
   "metadata": {},
   "outputs": [
    {
     "name": "stdout",
     "output_type": "stream",
     "text": [
      "Columns in power_data: Index(['timestamp', 'cpu_power', 'memory_power', 'nic_power', 'tdp_power'], dtype='object')\n"
     ]
    },
    {
     "data": {
      "image/png": "[encoded data removed]",
      "text/plain": [
       "<Figure size 1200x600 with 1 Axes>"
      ]
     },
     "metadata": {},
     "output_type": "display_data"
    }
   ],
   "source": [
    "import pandas as pd\n",
    "import matplotlib.pyplot as plt\n",
    "\n",
    "# Load the power data\n",
    "power_data = pd.read_csv(\"../data/power_data.csv\")\n",
    "\n",
    "# Print the columns to check available data\n",
    "print(\"Columns in power_data:\", power_data.columns)\n",
    "\n",
    "# Check if necessary columns exist and create total_power if not present\n",
    "if 'cpu_power' in power_data.columns and 'memory_power' in power_data.columns and 'nic_power' in power_data.columns and 'tdp_power' in power_data.columns:\n",
    "    power_data['total_power'] = (power_data['cpu_power'] + \n",
    "                                  power_data['memory_power'] + \n",
    "                                  power_data['nic_power'] + \n",
    "                                  power_data['tdp_power'])\n",
    "\n",
    "    plt.figure(figsize=(12, 6))\n",
    "    plt.plot(power_data.index, power_data['total_power'], label='Total Power Consumption')\n",
    "    plt.xlabel('Time')\n",
    "    plt.ylabel('Power (W)')\n",
    "    plt.title('Total Power Consumption Over Time')\n",
    "    plt.legend()\n",
    "    plt.show()\n",
    "else:\n",
    "    print(\"One or more required power columns are missing.\")\n"
   ]
  },
  {
   "cell_type": "code",
   "execution_count": null,
   "id": "3b403af0",
   "metadata": {
    "scrolled": false
   },
   "outputs": [],
   "source": [
    "import pandas as pd\n",
    "import matplotlib.pyplot as plt\n",
    "import time\n",
    "\n",
    "# Function to load power data\n",
    "def load_power_data():\n",
    "    return pd.read_csv(\"../data/power_data.csv\")\n",
    "\n",
    "# Initialize plot\n",
    "plt.ion()  # Interactive mode on\n",
    "fig, ax = plt.subplots(figsize=(12, 6))\n",
    "line, = ax.plot([], [], label='Total Power Consumption')\n",
    "ax.set_xlabel('Time')\n",
    "ax.set_ylabel('Power (W)')\n",
    "ax.set_title('Real-Time Total Power Consumption')\n",
    "ax.legend()\n",
    "\n",
    "# Set initial limits\n",
    "ax.set_xlim(0, 100)  # Adjust as needed\n",
    "ax.set_ylim(0, 100)  # Adjust as needed\n",
    "\n",
    "# Lists to hold data for plotting\n",
    "x_data = []\n",
    "y_data = []\n",
    "\n",
    "try:\n",
    "    while True:\n",
    "        # Load the latest power data\n",
    "        power_data = load_power_data()\n",
    "\n",
    "        # Check for necessary columns\n",
    "        if all(col in power_data.columns for col in ['cpu_power', 'memory_power', 'nic_power', 'tdp_power']):\n",
    "            power_data['total_power'] = (power_data['cpu_power'] + \n",
    "                                          power_data['memory_power'] + \n",
    "                                          power_data['nic_power'] + \n",
    "                                          power_data['tdp_power'])\n",
    "\n",
    "            # Append data for plotting\n",
    "            current_time = len(x_data)  # Use index as time\n",
    "            x_data.append(current_time)\n",
    "            y_data.append(power_data['total_power'].iloc[-1])  # Latest total power\n",
    "\n",
    "            # Update plot\n",
    "            line.set_xdata(x_data)\n",
    "            line.set_ydata(y_data)\n",
    "            ax.relim()  # Recalculate limits\n",
    "            ax.autoscale_view()  # Autoscale\n",
    "            plt.draw()\n",
    "            plt.pause(1)  # Pause for a second before the next update\n",
    "        else:\n",
    "            print(\"One or more required power columns are missing.\")\n",
    "\n",
    "except KeyboardInterrupt:\n",
    "    print(\"Real-time monitoring stopped.\")\n",
    "\n",
    "finally:\n",
    "    plt.ioff()  # Turn interactive mode off\n",
    "    plt.show()  # Show final plot\n"
   ]
  },
  {
   "cell_type": "code",
   "execution_count": null,
   "id": "a0dc2177",
   "metadata": {},
   "outputs": [],
   "source": []
  }
 ],
 "metadata": {
  "kernelspec": {
   "display_name": "Python 3 (ipykernel)",
   "language": "python",
   "name": "python3"
  },
  "language_info": {
   "codemirror_mode": {
    "name": "ipython",
    "version": 3
   },
   "file_extension": ".py",
   "mimetype": "text/x-python",
   "name": "python",
   "nbconvert_exporter": "python",
   "pygments_lexer": "ipython3",
   "version": "3.11.5"
  }
 },
 "nbformat": 4,
 "nbformat_minor": 5
}
